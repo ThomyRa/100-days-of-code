{
 "cells": [
  {
   "cell_type": "code",
   "execution_count": null,
   "metadata": {},
   "outputs": [
    {
     "name": "stdout",
     "output_type": "stream",
     "text": [
      "Your cards: [[2, 5]], current score: 7\n",
      "Type 'y' to get another card, type 'n' to pass: y\n"
     ]
    }
   ],
   "source": [
    "import random\n",
    "\n",
    "def initial_hands():\n",
    "    initial_player_hand = []\n",
    "    initial_dealer_hand = []\n",
    "\n",
    "    initial_player_hand += [random.choice(cards), random.choice(cards)]\n",
    "    initial_dealer_hand += [random.choice(cards), random.choice(cards)]\n",
    "    \n",
    "    print(f\"Your cards: [{initial_player_hand}], current score: {sum(initial_player_hand)}\")\n",
    "\n",
    "    return {'player' : initial_player_hand, 'dealer' : initial_dealer_hand}\n",
    "\n",
    "def new_card(dict_hands, participant):\n",
    "    for person in dict_hands:\n",
    "        if person == participant:\n",
    "            dict_hands[person] += [random.choice(cards)]\n",
    "    return dict_hands\n",
    "\n",
    "def play_again():\n",
    "    again = input(\"Do you want to play another game? Type 'y' or 'n' \")\n",
    "    if again == 'y':\n",
    "        return True\n",
    "    else:\n",
    "        return False\n",
    "\n",
    "cards = [11, 2, 3, 4, 5, 6, 7, 8, 9, 10, 10, 10, 10]\n",
    "\n",
    "hands = initial_hands()\n",
    "\n",
    "flag = False\n",
    "while flag == False:\n",
    "    more_cards = input(\"Type 'y' to get another card, type 'n' to pass: \")\n",
    "    if more_cards == 'y':\n",
    "        hands = new_card(hands, 'player')\n",
    "        print(f\"Your cards {hands['player']}\")\n",
    "        if sum(hands['player']) > 21:\n",
    "            print(f\"Your cards {hands['player']}\")\n",
    "            print(\"You lose :(\")\n",
    "            new_game = play_again()\n",
    "    else:\n",
    "        flag = True\n",
    "\n",
    "player_score = sum(hands['player'])\n",
    "dealer_score = sum(hands['dealer'])\n",
    "if dealer_score > player_score:\n",
    "    print(\"You lose :(\")\n",
    "    new_game = play_again()\n",
    "else:\n",
    "    while dealer_score < 17:\n",
    "        hands = new_card(hands, 'dealer')\n",
    "        dealer_score = sum(hands['dealer'])\n",
    "        if dealer_score > 21:\n",
    "            print(\"You win :)\")\n",
    "            new_game = play_again()\n",
    "        else:\n",
    "            print(\"You lose\")\n",
    "            new_game = play_again()\n",
    "\n",
    "\n"
   ]
  }
 ],
 "metadata": {
  "kernelspec": {
   "display_name": "Python 3",
   "language": "python",
   "name": "python3"
  },
  "language_info": {
   "codemirror_mode": {
    "name": "ipython",
    "version": 3
   },
   "file_extension": ".py",
   "mimetype": "text/x-python",
   "name": "python",
   "nbconvert_exporter": "python",
   "pygments_lexer": "ipython3",
   "version": "3.8.5"
  }
 },
 "nbformat": 4,
 "nbformat_minor": 2
}
