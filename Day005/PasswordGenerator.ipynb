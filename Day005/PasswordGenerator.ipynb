{
 "metadata": {
  "language_info": {
   "codemirror_mode": {
    "name": "ipython",
    "version": 3
   },
   "file_extension": ".py",
   "mimetype": "text/x-python",
   "name": "python",
   "nbconvert_exporter": "python",
   "pygments_lexer": "ipython3",
   "version": "3.8.6-final"
  },
  "orig_nbformat": 2,
  "kernelspec": {
   "name": "python3",
   "display_name": "Python 3.8.6 64-bit",
   "metadata": {
    "interpreter": {
     "hash": "0adcc2737ebf6a4a119f135174df96668767fca1ef1112612db5ecadf2b6d608"
    }
   }
  }
 },
 "nbformat": 4,
 "nbformat_minor": 2,
 "cells": [
  {
   "cell_type": "code",
   "execution_count": 25,
   "metadata": {},
   "outputs": [
    {
     "output_type": "stream",
     "name": "stdout",
     "text": [
      "Welcome to the PyPassword Generator!\n",
      "Your password is: 9+u(j0\n"
     ]
    }
   ],
   "source": [
    "import random\n",
    "\n",
    "def random_letter(letters):\n",
    "    letter_idx = random.randint(0, len(letters) - 1)\n",
    "    return letters[letter_idx]\n",
    "\n",
    "def random_number(numbers):\n",
    "    number_idx = random.randint(0, len(numbers) - 1)\n",
    "    return numbers[number_idx]\n",
    "\n",
    "def random_symbol(symbols):\n",
    "    symbol_idx = random.randint(0, len(symbols) - 1)\n",
    "    return symbols[symbol_idx]\n",
    "\n",
    "letters = ['a', 'b', 'c', 'd', 'e', 'f', 'g', 'h', 'i', 'j', 'k', 'l', 'm', 'n', 'o', 'p', 'q', 'r', 's', 't', 'u', 'v', 'w', 'x', 'y', 'z', 'A', 'B', 'C', 'D', 'E', 'F', 'G', 'H', 'I', 'J', 'K', 'L', 'M', 'N', 'O', 'P', 'Q', 'R', 'S', 'T', 'U', 'V', 'W', 'X', 'Y', 'Z']\n",
    "numbers = ['0', '1', '2', '3', '4', '5', '6', '7', '8', '9']\n",
    "symbols = ['!', '#', '$', '%', '&', '(', ')', '*', '+']\n",
    "\n",
    "print(\"Welcome to the PyPassword Generator!\")\n",
    "nr_letters= int(input(\"How many letters would you like in your password?\\n\")) \n",
    "nr_symbols = int(input(f\"How many symbols would you like?\\n\"))\n",
    "nr_numbers = int(input(f\"How many numbers would you like?\\n\"))\n",
    "\n",
    "password = \"\"\n",
    "\n",
    "for _ in range(nr_letters):\n",
    "    password += random_letter(letters)\n",
    "\n",
    "for _ in range(nr_numbers):\n",
    "    password += random_number(numbers)\n",
    "\n",
    "for _ in range(nr_symbols):\n",
    "    password += random_symbol(symbols)\n",
    "\n",
    "\n",
    "password = list(password)\n",
    "random.shuffle(password)\n",
    "\n",
    "shuffled_pass = ''\n",
    "for _ in password:\n",
    "    shuffled_pass += _\n",
    "\n",
    "print(f'Your password is: {shuffled_pass}')\n",
    " "
   ]
  }
 ]
}