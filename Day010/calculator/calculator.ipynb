{
 "metadata": {
  "language_info": {
   "codemirror_mode": {
    "name": "ipython",
    "version": 3
   },
   "file_extension": ".py",
   "mimetype": "text/x-python",
   "name": "python",
   "nbconvert_exporter": "python",
   "pygments_lexer": "ipython3",
   "version": "3.8.5"
  },
  "orig_nbformat": 2,
  "kernelspec": {
   "name": "python385jvsc74a57bd06ef24a4c262c4b7385935bcdefc3d4aed883aef8d306cecf48139a9196195a8b",
   "display_name": "Python 3.8.5 64-bit ('base': conda)"
  }
 },
 "nbformat": 4,
 "nbformat_minor": 2,
 "cells": [
  {
   "cell_type": "code",
   "execution_count": 2,
   "metadata": {},
   "outputs": [
    {
     "output_type": "stream",
     "name": "stdout",
     "text": [
      "+\n",
      "-\n",
      "*\n",
      "/\n",
      "2 - 5 = -3\n",
      "+\n",
      "-\n",
      "*\n",
      "/\n",
      "2 / -10 = -0.2\n"
     ]
    }
   ],
   "source": [
    "# Calculator\n",
    "from art import logo\n",
    "# Adition\n",
    "def add(n1, n2):\n",
    "    return n1 + n2\n",
    "\n",
    "#Substraction\n",
    "def substract(n1, n2):\n",
    "    return n1 - n2\n",
    "\n",
    "#Multyplication\n",
    "def multiply(n1, n2):\n",
    "    return n1 * n2\n",
    "\n",
    "#Division\n",
    "def divide(n1, n2):\n",
    "    return n1 / n2\n",
    "\n",
    "def calc(num1, math_operations):    \n",
    "    for operation in operations:\n",
    "        print(operation)    \n",
    "    operation_symbol = input(\"Pick an operation: \")\n",
    "    num2 = float(input(\"What's the next number? \"))        \n",
    "    calculation_function = operations[operation_symbol]\n",
    "    print(f\"{num1} {operation_symbol} {num2} = {calculation_function(num1, num2)}\")\n",
    "    return calculation_function(num1, num2)\n",
    " \n",
    " \n",
    "print(logo) \n",
    "    \n",
    "operations = {\n",
    "    '+' : add,\n",
    "    '-' : substract,\n",
    "    '*' : multiply,\n",
    "    '/' : divide,\n",
    "}\n",
    "answer = float( input(\"What's the first number? \"))\n",
    "\n",
    "while True:    \n",
    "    answer = calc(answer, operations)\n",
    "    choice = input(f\"Type 'y' to continue calculating with {answer}, or type 'n' to exit: \")\n",
    "    if choice == 'y':\n",
    "        continue\n",
    "    else:\n",
    "        break"
   ]
  }
 ]
}