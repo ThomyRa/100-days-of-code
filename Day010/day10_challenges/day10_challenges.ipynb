{
 "metadata": {
  "language_info": {
   "codemirror_mode": {
    "name": "ipython",
    "version": 3
   },
   "file_extension": ".py",
   "mimetype": "text/x-python",
   "name": "python",
   "nbconvert_exporter": "python",
   "pygments_lexer": "ipython3",
   "version": "3.8.5"
  },
  "orig_nbformat": 2,
  "kernelspec": {
   "name": "python385jvsc74a57bd06ef24a4c262c4b7385935bcdefc3d4aed883aef8d306cecf48139a9196195a8b",
   "display_name": "Python 3.8.5 64-bit ('base': conda)"
  }
 },
 "nbformat": 4,
 "nbformat_minor": 2,
 "cells": [
  {
   "source": [
    "## Formating a name challenge"
   ],
   "cell_type": "markdown",
   "metadata": {}
  },
  {
   "cell_type": "code",
   "execution_count": 6,
   "metadata": {},
   "outputs": [
    {
     "output_type": "execute_result",
     "data": {
      "text/plain": [
       "'Thomas Ramirez'"
      ]
     },
     "metadata": {},
     "execution_count": 6
    }
   ],
   "source": [
    "def format_name(f_name, l_name):\n",
    "    fullname = f_name + ' ' + l_name\n",
    "    return fullname.title()\n",
    "\n",
    "format_name('thomas', 'ramirez')\n"
   ]
  },
  {
   "source": [
    "## Leap year funtion"
   ],
   "cell_type": "markdown",
   "metadata": {}
  },
  {
   "cell_type": "code",
   "execution_count": 13,
   "metadata": {},
   "outputs": [
    {
     "output_type": "stream",
     "name": "stdout",
     "text": [
      "28\n"
     ]
    }
   ],
   "source": [
    "def is_leap(year):\n",
    "    \"\"\" Takes a year an return wether it is leap or not \"\"\"\n",
    "  if year % 4 == 0:\n",
    "    if year % 100 == 0:\n",
    "      if year % 400 == 0:\n",
    "        return True\n",
    "      else:\n",
    "        return False\n",
    "    else:\n",
    "      return True\n",
    "  else:\n",
    "    return False\n",
    "\n",
    "def days_in_month(year_eval, month_eval):\n",
    "    month_days = [31, 28, 31, 30, 31, 30, 31, 31, 30, 31, 30, 31]\n",
    "    if is_leap(year_eval):\n",
    "        if month == '2':\n",
    "            return '29'\n",
    "        else:\n",
    "            return month_days[month_eval - 1]\n",
    "    else:\n",
    "        return month_days[month_eval - 1]\n",
    "  \n",
    "  \n",
    "  \n",
    "#🚨 Do NOT change any of the code below \n",
    "year = int(input(\"Enter a year: \"))\n",
    "month = int(input(\"Enter a month: \"))\n",
    "days = days_in_month(year, month)\n",
    "print(days)\n",
    "\n"
   ]
  }
 ]
}