{
 "metadata": {
  "language_info": {
   "codemirror_mode": {
    "name": "ipython",
    "version": 3
   },
   "file_extension": ".py",
   "mimetype": "text/x-python",
   "name": "python",
   "nbconvert_exporter": "python",
   "pygments_lexer": "ipython3",
   "version": "3.8.5"
  },
  "orig_nbformat": 2,
  "kernelspec": {
   "name": "python385jvsc74a57bd06ef24a4c262c4b7385935bcdefc3d4aed883aef8d306cecf48139a9196195a8b",
   "display_name": "Python 3.8.5 64-bit ('base': conda)"
  }
 },
 "nbformat": 4,
 "nbformat_minor": 2,
 "cells": [
  {
   "cell_type": "code",
   "execution_count": 10,
   "metadata": {},
   "outputs": [
    {
     "output_type": "stream",
     "name": "stdout",
     "text": [
      "\n",
      "\n",
      "  /$$$$$$                                               /$$$$$$$$ /$$                       /$$   /$$                         /$$                          \n",
      " /$$__  $$                                             |__  $$__/| $$                      | $$$ | $$                        | $$                          \n",
      "| $$  \\__/ /$$   /$$  /$$$$$$   /$$$$$$$ /$$$$$$$         | $$   | $$$$$$$   /$$$$$$       | $$$$| $$ /$$   /$$ /$$$$$$/$$$$ | $$$$$$$   /$$$$$$   /$$$$$$ \n",
      "| $$ /$$$$| $$  | $$ /$$__  $$ /$$_____//$$_____/         | $$   | $$__  $$ /$$__  $$      | $$ $$ $$| $$  | $$| $$_  $$_  $$| $$__  $$ /$$__  $$ /$$__  $$\n",
      "| $$|_  $$| $$  | $$| $$$$$$$$|  $$$$$$|  $$$$$$          | $$   | $$  \\ $$| $$$$$$$$      | $$  $$$$| $$  | $$| $$ \\ $$ \\ $$| $$  \\ $$| $$$$$$$$| $$  \\__/\n",
      "| $$  \\ $$| $$  | $$| $$_____/ \\____  $$\\____  $$         | $$   | $$  | $$| $$_____/      | $$\\  $$$| $$  | $$| $$ | $$ | $$| $$  | $$| $$_____/| $$      \n",
      "|  $$$$$$/|  $$$$$$/|  $$$$$$$ /$$$$$$$//$$$$$$$/         | $$   | $$  | $$|  $$$$$$$      | $$ \\  $$|  $$$$$$/| $$ | $$ | $$| $$$$$$$/|  $$$$$$$| $$      \n",
      " \\______/  \\______/  \\_______/|_______/|_______/          |__/   |__/  |__/ \\_______/      |__/  \\__/ \\______/ |__/ |__/ |__/|_______/  \\_______/|__/      \n",
      "                                                                                                                                                           \n",
      "                                                                                                                                                           \n",
      "                                                                                                                                                           \n",
      "\n",
      " Too high. Guess again.\n",
      " Too high. Guess again.\n",
      " Too low. Guess again.\n",
      " Too low. Guess again.\n",
      " Too low. Guess again.\n",
      "You run out of attempts. You lose.\n",
      "The number was 24\n",
      "\n",
      "\n",
      "  /$$$$$$                                               /$$$$$$$$ /$$                       /$$   /$$                         /$$                          \n",
      " /$$__  $$                                             |__  $$__/| $$                      | $$$ | $$                        | $$                          \n",
      "| $$  \\__/ /$$   /$$  /$$$$$$   /$$$$$$$ /$$$$$$$         | $$   | $$$$$$$   /$$$$$$       | $$$$| $$ /$$   /$$ /$$$$$$/$$$$ | $$$$$$$   /$$$$$$   /$$$$$$ \n",
      "| $$ /$$$$| $$  | $$ /$$__  $$ /$$_____//$$_____/         | $$   | $$__  $$ /$$__  $$      | $$ $$ $$| $$  | $$| $$_  $$_  $$| $$__  $$ /$$__  $$ /$$__  $$\n",
      "| $$|_  $$| $$  | $$| $$$$$$$$|  $$$$$$|  $$$$$$          | $$   | $$  \\ $$| $$$$$$$$      | $$  $$$$| $$  | $$| $$ \\ $$ \\ $$| $$  \\ $$| $$$$$$$$| $$  \\__/\n",
      "| $$  \\ $$| $$  | $$| $$_____/ \\____  $$\\____  $$         | $$   | $$  | $$| $$_____/      | $$\\  $$$| $$  | $$| $$ | $$ | $$| $$  | $$| $$_____/| $$      \n",
      "|  $$$$$$/|  $$$$$$/|  $$$$$$$ /$$$$$$$//$$$$$$$/         | $$   | $$  | $$|  $$$$$$$      | $$ \\  $$|  $$$$$$/| $$ | $$ | $$| $$$$$$$/|  $$$$$$$| $$      \n",
      " \\______/  \\______/  \\_______/|_______/|_______/          |__/   |__/  |__/ \\_______/      |__/  \\__/ \\______/ |__/ |__/ |__/|_______/  \\_______/|__/      \n",
      "                                                                                                                                                           \n",
      "                                                                                                                                                           \n",
      "                                                                                                                                                           \n",
      "\n"
     ]
    },
    {
     "output_type": "error",
     "ename": "UnboundLocalError",
     "evalue": "local variable 'attempts' referenced before assignment",
     "traceback": [
      "\u001b[0;31m---------------------------------------------------------------------------\u001b[0m",
      "\u001b[0;31mUnboundLocalError\u001b[0m                         Traceback (most recent call last)",
      "\u001b[0;32m<ipython-input-10-a16a46841ff9>\u001b[0m in \u001b[0;36m<module>\u001b[0;34m\u001b[0m\n\u001b[1;32m     45\u001b[0m         \u001b[0;32mreturn\u001b[0m \u001b[0;32mNone\u001b[0m\u001b[0;34m\u001b[0m\u001b[0;34m\u001b[0m\u001b[0m\n\u001b[1;32m     46\u001b[0m \u001b[0;34m\u001b[0m\u001b[0m\n\u001b[0;32m---> 47\u001b[0;31m \u001b[0mguess_number\u001b[0m\u001b[0;34m(\u001b[0m\u001b[0;34m)\u001b[0m\u001b[0;34m\u001b[0m\u001b[0;34m\u001b[0m\u001b[0m\n\u001b[0m\u001b[1;32m     48\u001b[0m \u001b[0;34m\u001b[0m\u001b[0m\n\u001b[1;32m     49\u001b[0m \u001b[0;34m\u001b[0m\u001b[0m\n",
      "\u001b[0;32m<ipython-input-10-a16a46841ff9>\u001b[0m in \u001b[0;36mguess_number\u001b[0;34m()\u001b[0m\n\u001b[1;32m     24\u001b[0m                     \u001b[0mprint\u001b[0m\u001b[0;34m(\u001b[0m\u001b[0;34m\"You run out of attempts. You lose.\"\u001b[0m\u001b[0;34m)\u001b[0m\u001b[0;34m\u001b[0m\u001b[0;34m\u001b[0m\u001b[0m\n\u001b[1;32m     25\u001b[0m                     \u001b[0mprint\u001b[0m\u001b[0;34m(\u001b[0m\u001b[0;34mf\"The number was {random_number}\"\u001b[0m\u001b[0;34m)\u001b[0m\u001b[0;34m\u001b[0m\u001b[0;34m\u001b[0m\u001b[0m\n\u001b[0;32m---> 26\u001b[0;31m                     \u001b[0mguess_number\u001b[0m\u001b[0;34m(\u001b[0m\u001b[0;34m)\u001b[0m\u001b[0;34m\u001b[0m\u001b[0;34m\u001b[0m\u001b[0m\n\u001b[0m\u001b[1;32m     27\u001b[0m                     \u001b[0;32mreturn\u001b[0m \u001b[0;32mNone\u001b[0m\u001b[0;34m\u001b[0m\u001b[0;34m\u001b[0m\u001b[0m\n\u001b[1;32m     28\u001b[0m                 \u001b[0;32melse\u001b[0m\u001b[0;34m:\u001b[0m\u001b[0;34m\u001b[0m\u001b[0;34m\u001b[0m\u001b[0m\n",
      "\u001b[0;32m<ipython-input-10-a16a46841ff9>\u001b[0m in \u001b[0;36mguess_number\u001b[0;34m()\u001b[0m\n\u001b[1;32m     16\u001b[0m             \u001b[0mattempts\u001b[0m \u001b[0;34m=\u001b[0m \u001b[0;36m5\u001b[0m\u001b[0;34m\u001b[0m\u001b[0;34m\u001b[0m\u001b[0m\n\u001b[1;32m     17\u001b[0m \u001b[0;34m\u001b[0m\u001b[0m\n\u001b[0;32m---> 18\u001b[0;31m         \u001b[0;32mwhile\u001b[0m \u001b[0mattempts\u001b[0m \u001b[0;34m>\u001b[0m \u001b[0;36m0\u001b[0m\u001b[0;34m:\u001b[0m\u001b[0;34m\u001b[0m\u001b[0;34m\u001b[0m\u001b[0m\n\u001b[0m\u001b[1;32m     19\u001b[0m             \u001b[0mguess\u001b[0m \u001b[0;34m=\u001b[0m \u001b[0mint\u001b[0m\u001b[0;34m(\u001b[0m\u001b[0minput\u001b[0m\u001b[0;34m(\u001b[0m\u001b[0;34m\"Make a guess: \"\u001b[0m\u001b[0;34m)\u001b[0m\u001b[0;34m)\u001b[0m\u001b[0;34m\u001b[0m\u001b[0;34m\u001b[0m\u001b[0m\n\u001b[1;32m     20\u001b[0m             \u001b[0;32mif\u001b[0m \u001b[0mguess\u001b[0m \u001b[0;34m<\u001b[0m \u001b[0mrandom_number\u001b[0m\u001b[0;34m:\u001b[0m\u001b[0;34m\u001b[0m\u001b[0;34m\u001b[0m\u001b[0m\n",
      "\u001b[0;31mUnboundLocalError\u001b[0m: local variable 'attempts' referenced before assignment"
     ]
    }
   ],
   "source": [
    "\n",
    "\n",
    "import random\n",
    "import os\n",
    "from art import logo\n",
    "\n",
    "def guess_number():    \n",
    "    play_again = input(\"Do you want to play Guess The Number? Type 'y' or 'n': \")\n",
    "    if play_again == 'y':\n",
    "        os.system('clean')\n",
    "        print(logo)\n",
    "        random_number = random.randint(0, 100)\n",
    "        difficulty = input(\"Choose your difficulty. Type 'easy' or 'hard':\")\n",
    "\n",
    "        if difficulty == 'easy':\n",
    "            attempts = 10\n",
    "        elif difficulty == 'hard':\n",
    "            attempts = 5\n",
    "\n",
    "        while attempts > 0:    \n",
    "            guess = int(input(\"Make a guess: \"))\n",
    "            if guess < random_number:\n",
    "                print(\" Too low. Guess again.\")\n",
    "                attempts -= 1\n",
    "                if attempts == 0:\n",
    "                    print(\"You run out of attempts. You lose.\")\n",
    "                    print(f\"The number was {random_number}\")\n",
    "                    guess_number()\n",
    "                    return None\n",
    "                else:\n",
    "                    continue\n",
    "            elif guess > random_number:\n",
    "                print(\" Too high. Guess again.\")\n",
    "                attempts -= 1\n",
    "                if attempts == 0:\n",
    "                    print(\"You run out of attempts. You lose.\")\n",
    "                    print(f\"The number was {random_number}\")\n",
    "                    guess_number()\n",
    "                    return None\n",
    "                else:\n",
    "                    continue\n",
    "            else:\n",
    "                print(f\"Congrats, you got it. The answer was {random_number}.\")\n",
    "                guess_number()\n",
    "                return None\n",
    "        \n",
    "    else:\n",
    "        return None\n",
    "\n",
    "guess_number()        \n",
    "    \n",
    "\n"
   ]
  },
  {
   "cell_type": "code",
   "execution_count": null,
   "metadata": {},
   "outputs": [],
   "source": [
    "help(random.randint)"
   ]
  }
 ]
}