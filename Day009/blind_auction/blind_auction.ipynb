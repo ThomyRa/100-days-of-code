{
 "metadata": {
  "language_info": {
   "codemirror_mode": {
    "name": "ipython",
    "version": 3
   },
   "file_extension": ".py",
   "mimetype": "text/x-python",
   "name": "python",
   "nbconvert_exporter": "python",
   "pygments_lexer": "ipython3",
   "version": "3.7.10"
  },
  "orig_nbformat": 2,
  "kernelspec": {
   "name": "python3710jvsc74a57bd06ef24a4c262c4b7385935bcdefc3d4aed883aef8d306cecf48139a9196195a8b",
   "display_name": "Python 3.7.10 64-bit ('base': conda)"
  }
 },
 "nbformat": 4,
 "nbformat_minor": 2,
 "cells": [
  {
   "cell_type": "code",
   "execution_count": 24,
   "metadata": {},
   "outputs": [
    {
     "output_type": "stream",
     "name": "stdout",
     "text": [
      "Welcome to the secret auction program\n",
      "Welcome to the secret auction program\n"
     ]
    }
   ],
   "source": [
    "import os\n",
    "from art import logo\n",
    "\n",
    "def adding_bidder():\n",
    "    print('Welcome to the secret auction program')\n",
    "    auctioners_name = input('What is your name: ')\n",
    "    auctioners_bid = int(input('Insert you bid: $'))\n",
    "    auctioners_dict[auctioners_name] = auctioners_bid\n",
    "    \n",
    "def find_winner():\n",
    "    winner = ''\n",
    "    bid = 0\n",
    "    for key in auctioners_dict:\n",
    "        if auctioners_dict[key] > bid:\n",
    "            bid = auctioners_dict[key]\n",
    "            winner = key\n",
    "    print(f'The winner is {winner} with a bid of ${bid}')\n",
    "    \n",
    "auctioners_dict = {}\n",
    "os.system('clear')\n",
    "print(logo)\n",
    "while True:\n",
    "    adding_bidder()\n",
    "    more_bidders = input(\"Are the any other bidder? Type 'yes' or 'no': \")\n",
    "    if more_bidders == 'yes':\n",
    "        os.system('clear')\n",
    "    else:\n",
    "        os.system('clear')\n",
    "        find_winner()              \n",
    "        break\n",
    "\n",
    "\n"
   ]
  },
  {
   "cell_type": "code",
   "execution_count": 22,
   "metadata": {},
   "outputs": [
    {
     "output_type": "stream",
     "name": "stdout",
     "text": [
      "Hermione\n"
     ]
    }
   ],
   "source": [
    "student_scores = {\n",
    "  \"Harry\": 81,\n",
    "  \"Ron\": 78,\n",
    "  \"Hermione\": 99, \n",
    "  \"Draco\": 74,\n",
    "  \"Neville\": 62,\n",
    "}\n",
    "winner = ''\n",
    "bid = 0\n",
    "for keys in student_scores:\n",
    "    if student_scores[keys] > bid:\n",
    "        bid = student_scores[keys]\n",
    "        winner = keys\n",
    "print(winner)"
   ]
  }
 ]
}