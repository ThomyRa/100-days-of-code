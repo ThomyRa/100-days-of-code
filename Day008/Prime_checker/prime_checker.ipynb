{
 "metadata": {
  "language_info": {
   "codemirror_mode": {
    "name": "ipython",
    "version": 3
   },
   "file_extension": ".py",
   "mimetype": "text/x-python",
   "name": "python",
   "nbconvert_exporter": "python",
   "pygments_lexer": "ipython3",
   "version": "3.8.6"
  },
  "orig_nbformat": 2,
  "kernelspec": {
   "name": "python386jvsc74a57bd00adcc2737ebf6a4a119f135174df96668767fca1ef1112612db5ecadf2b6d608",
   "display_name": "Python 3.8.6 64-bit"
  },
  "metadata": {
   "interpreter": {
    "hash": "0adcc2737ebf6a4a119f135174df96668767fca1ef1112612db5ecadf2b6d608"
   }
  }
 },
 "nbformat": 4,
 "nbformat_minor": 2,
 "cells": [
  {
   "cell_type": "code",
   "execution_count": 5,
   "metadata": {},
   "outputs": [
    {
     "output_type": "stream",
     "name": "stdout",
     "text": [
      "Is Prime\n"
     ]
    }
   ],
   "source": [
    "#Write your code below this line 👇\n",
    "def prime_checker(number):\n",
    "    for num in range(2, number // 2 + 1):\n",
    "        if (number % num == 0):\n",
    "            print('Not prime')\n",
    "    print('Is Prime')\n",
    "\n",
    "            \n",
    "        \n",
    "#Write your code above this line 👆\n",
    "    \n",
    "#Do NOT change any of the code below👇\n",
    "n = int(input(\"Check this number: \"))\n",
    "prime_checker(number=n)"
   ]
  },
  {
   "cell_type": "code",
   "execution_count": 3,
   "metadata": {},
   "outputs": [
    {
     "output_type": "stream",
     "name": "stdout",
     "text": [
      "[2, 3, 4, 5, 6, 7, 8]\n"
     ]
    }
   ],
   "source": [
    "print(list(range(2, 17//2 + 1)))"
   ]
  }
 ]
}