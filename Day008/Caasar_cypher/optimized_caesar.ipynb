{
 "metadata": {
  "language_info": {
   "codemirror_mode": {
    "name": "ipython",
    "version": 3
   },
   "file_extension": ".py",
   "mimetype": "text/x-python",
   "name": "python",
   "nbconvert_exporter": "python",
   "pygments_lexer": "ipython3",
   "version": "3.7.10"
  },
  "orig_nbformat": 2,
  "kernelspec": {
   "name": "python3710jvsc74a57bd06ef24a4c262c4b7385935bcdefc3d4aed883aef8d306cecf48139a9196195a8b",
   "display_name": "Python 3.7.10 64-bit ('base': conda)"
  }
 },
 "nbformat": 4,
 "nbformat_minor": 2,
 "cells": [
  {
   "source": [
    "## First Version"
   ],
   "cell_type": "markdown",
   "metadata": {}
  },
  {
   "cell_type": "code",
   "execution_count": 1,
   "metadata": {},
   "outputs": [
    {
     "output_type": "stream",
     "name": "stdout",
     "text": [
      "The decoded text is heloo\n"
     ]
    }
   ],
   "source": [
    "alphabet = ['a', 'b', 'c', 'd', 'e', 'f', 'g', 'h', 'i', 'j', 'k', 'l', 'm', 'n', 'o', 'p', 'q', 'r', 's', 't', 'u', 'v', 'w', 'x', 'y', 'z']\n",
    "\n",
    "direction = input(\"Type 'encode' to encrypt, type 'decode' to decrypt:\\n\")\n",
    "text = input(\"Type your message:\\n\").lower()\n",
    "shift = int(input(\"Type the shift number:\\n\"))\n",
    "\n",
    "#TODO-1: Combine the encrypt() and decrypt() functions into a single function called caesar(). \n",
    "\n",
    "def encrypt(input_text, shift_number):\n",
    "    new_text = ''\n",
    "    for char in input_text:\n",
    "        new_idx = alphabet.index(char)\n",
    "        if (new_idx + shift_number) > (len(alphabet) - 1):\n",
    "            new_text += alphabet[shift_number - 1]\n",
    "        else:\n",
    "            new_text += alphabet[new_idx + shift_number]\n",
    "\n",
    "    print(f'The encoded text is: {new_text}')\n",
    "\n",
    "\n",
    "def decrypt(encrypted_text, shift_number):\n",
    "    original_text = ''\n",
    "    for char in encrypted_text:\n",
    "        original_idx = alphabet.index(char)\n",
    "        original_text += alphabet[original_idx - shift_number]\n",
    "\n",
    "    print(f'The decoded text is {original_text}')\n",
    "\n",
    "if direction == 'encode':\n",
    "    encrypt(input_text = text, shift_number = shift)\n",
    "elif direction == 'decode':\n",
    "    decrypt(encrypted_text = text, shift_number = shift)\n",
    "\n",
    "#TODO-2: Call the caesar() function, passing over the 'text', 'shift' and 'direction' values.\n"
   ]
  },
  {
   "source": [
    "## Short version with one function"
   ],
   "cell_type": "markdown",
   "metadata": {}
  },
  {
   "cell_type": "code",
   "execution_count": 10,
   "metadata": {},
   "outputs": [
    {
     "output_type": "stream",
     "name": "stdout",
     "text": [
      "The decoded text is: hello\n"
     ]
    }
   ],
   "source": [
    "alphabet = ['a', 'b', 'c', 'd', 'e', 'f', 'g', 'h', 'i', 'j', 'k', 'l', 'm', 'n', 'o', 'p', 'q', 'r', 's', 't', 'u', 'v', 'w', 'x', 'y', 'z']\n",
    "\n",
    "direction = input(\"Type 'encode' to encrypt, type 'decode' to decrypt:\\n\")\n",
    "text = input(\"Type your message:\\n\").lower()\n",
    "shift = int(input(\"Type the shift number:\\n\"))\n",
    "\n",
    "def caesar(input_text, shift_number, direction):\n",
    "    new_text = ''\n",
    "    for char in input_text:\n",
    "        original_idx = alphabet.index(char)\n",
    "        if (direction == 'encode') :\n",
    "            if (original_idx + shift_number > len(alphabet) - 1):\n",
    "                new_text += alphabet[shift_number - 1]\n",
    "            else:\n",
    "                new_text += alphabet[original_idx + shift_number]\n",
    "        elif (direction == 'decode'):\n",
    "            new_text += alphabet[original_idx - shift_number]\n",
    "    print(f'The {direction}d text is: {new_text}')\n",
    "\n",
    "caesar(text, shift, direction)\n"
   ]
  },
  {
   "cell_type": "code",
   "execution_count": null,
   "metadata": {},
   "outputs": [],
   "source": []
  }
 ]
}