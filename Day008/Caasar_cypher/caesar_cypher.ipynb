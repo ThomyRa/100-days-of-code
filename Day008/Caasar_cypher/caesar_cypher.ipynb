{
 "metadata": {
  "language_info": {
   "codemirror_mode": {
    "name": "ipython",
    "version": 3
   },
   "file_extension": ".py",
   "mimetype": "text/x-python",
   "name": "python",
   "nbconvert_exporter": "python",
   "pygments_lexer": "ipython3",
   "version": "3.8.6"
  },
  "orig_nbformat": 2,
  "kernelspec": {
   "name": "python386jvsc74a57bd00adcc2737ebf6a4a119f135174df96668767fca1ef1112612db5ecadf2b6d608",
   "display_name": "Python 3.8.6 64-bit"
  },
  "metadata": {
   "interpreter": {
    "hash": "0adcc2737ebf6a4a119f135174df96668767fca1ef1112612db5ecadf2b6d608"
   }
  }
 },
 "nbformat": 4,
 "nbformat_minor": 2,
 "cells": [
  {
   "cell_type": "code",
   "execution_count": 2,
   "metadata": {
    "tags": []
   },
   "outputs": [
    {
     "output_type": "stream",
     "name": "stdout",
     "text": [
      "The decoded text is abdomen\n"
     ]
    }
   ],
   "source": [
    "alphabet = ['a', 'b', 'c', 'd', 'e', 'f', 'g', 'h', 'i', 'j', 'k', 'l', 'm', 'n', 'o', 'p', 'q', 'r', 's', 't', 'u', 'v', 'w', 'x', 'y', 'z']\n",
    "\n",
    "direction = input(\"Type 'encode' to encrypt, type 'decode' to decrypt:\\n\")\n",
    "text = input(\"Type your message:\\n\").lower()\n",
    "shift = int(input(\"Type the shift number:\\n\"))\n",
    "\n",
    "\n",
    "def encrypt(input_text, shift_number):\n",
    "    new_text = ''\n",
    "    for char in input_text:\n",
    "        new_idx = alphabet.index(char)\n",
    "        if (new_idx + shift_number) > (len(alphabet) - 1):\n",
    "            new_text += alphabet[shift_number - 1]\n",
    "        else:\n",
    "            new_text += alphabet[new_idx + shift_number]\n",
    "\n",
    "    print(f'The encoded text is: {new_text}')\n",
    "\n",
    "\n",
    "def decrypt(encrypted_text, shift_number):\n",
    "    original_text = ''\n",
    "    for char in encrypted_text:\n",
    "        original_idx = alphabet.index(char) - shift_number\n",
    "        original_text += alphabet[original_idx]\n",
    "\n",
    "    print(f'The decoded text is {original_text}')\n",
    "\n",
    "if direction == 'encode':\n",
    "    encrypt(input_text = text, shift_number = shift)\n",
    "elif direction == 'decode':\n",
    "    decrypt(encrypted_text = text, shift_number = shift)\n"
   ]
  },
  {
   "cell_type": "code",
   "execution_count": null,
   "metadata": {},
   "outputs": [],
   "source": [
    "alphabet = ['a', 'b', 'c', 'd', 'e', 'f', 'g', 'h', 'i', 'j', 'k', 'l', 'm', 'n', 'o', 'p', 'q', 'r', 's', 't', 'u', 'v', 'w', 'x', 'y', 'z']\n",
    "\n",
    "#direction = input(\"Type 'encode' to encrypt, type 'decode' to decrypt:\\n\")\n",
    "#text = input(\"Type your message:\\n\").lower()\n",
    "#shift = int(input(\"Type the shift number:\\n\"))\n",
    "\n",
    "shift = 5\n",
    "text = 'Hello'.lower()\n",
    "text_list = list(text.lower())\n",
    "print(text_list)\n",
    "\n",
    "new_text = ''\n",
    "for i in text:\n",
    "    new_idx = alphabet.index(i)\n",
    "    new_text += alphabet[new_idx + shift]\n",
    "\n",
    "print(new_text)\n",
    "\n",
    "\n"
   ]
  },
  {
   "cell_type": "code",
   "execution_count": null,
   "metadata": {},
   "outputs": [],
   "source": [
    "for char in text: print(char)"
   ]
  }
 ]
}